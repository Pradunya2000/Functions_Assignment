{
 "cells": [
  {
   "cell_type": "markdown",
   "id": "4cf81071-e358-4f38-985f-6253176f9528",
   "metadata": {},
   "source": [
    "Practical Questions:"
   ]
  },
  {
   "cell_type": "markdown",
   "id": "b2689c71-31eb-45e9-b0ce-d9563d81e1f4",
   "metadata": {},
   "source": [
    "1. Write a Python function that takes a list of numbers as input and returns the sum of all even numbers in the list."
   ]
  },
  {
   "cell_type": "code",
   "execution_count": 1,
   "id": "d6ebfc75-3999-4776-af4f-b2c85df12fc9",
   "metadata": {},
   "outputs": [
    {
     "name": "stdout",
     "output_type": "stream",
     "text": [
      "12\n"
     ]
    }
   ],
   "source": [
    "#Answer\n",
    "\n",
    "def sum_of_even_numbers(numbers):\n",
    "    return sum(num for num in numbers if num % 2 == 0)\n",
    "\n",
    "# Example usage:\n",
    "numbers_list = [1, 2, 3, 4, 5, 6]\n",
    "result = sum_of_even_numbers(numbers_list)\n",
    "print(result)  # Output: 12\n"
   ]
  },
  {
   "cell_type": "markdown",
   "id": "e7d3210a-97da-4718-b35b-be5193882a83",
   "metadata": {},
   "source": [
    "2. Create a Python function that accepts a string and returns the reverse of that string."
   ]
  },
  {
   "cell_type": "code",
   "execution_count": 5,
   "id": "0b4b70ed-048e-4a55-9dfe-fe677c74e0ed",
   "metadata": {},
   "outputs": [
    {
     "name": "stdout",
     "output_type": "stream",
     "text": [
      "dlroW olleH\n"
     ]
    }
   ],
   "source": [
    "#Answer\n",
    "\n",
    "def reverse_string(s):\n",
    "    return s[::-1]\n",
    "\n",
    "# Example usage:\n",
    "input_string = \"Hello World\"\n",
    "reversed_string = reverse_string(input_string)\n",
    "print(reversed_string)  # Output: \"dlroW olleH\"\n"
   ]
  },
  {
   "cell_type": "markdown",
   "id": "fef6647b-f66b-43a1-848b-8bee5654002e",
   "metadata": {},
   "source": [
    "3. Implement a Python function that takes a list of integers and returns a new list containing the squares of each number."
   ]
  },
  {
   "cell_type": "code",
   "execution_count": null,
   "id": "411fa3c8-7356-40ab-a00e-fe3ed88766a8",
   "metadata": {},
   "outputs": [],
   "source": [
    "#Answer\n",
    "\n",
    "def square_numbers(numbers):\n",
    "    return [num ** 2 for num in numbers]\n",
    "\n",
    "# Example usage:\n",
    "numbers_list = [1, 2, 3, 4, 5]\n",
    "squared_list = square_numbers(numbers_list)\n",
    "print(squared_list)  # Output: [1, 4, 9, 16, 25]\n"
   ]
  },
  {
   "cell_type": "markdown",
   "id": "aa705c21-3734-4150-8b43-2cd30d77a742",
   "metadata": {},
   "source": [
    "4. Write a Python function that checks if a given number is prime or not from 1 to 200."
   ]
  },
  {
   "cell_type": "code",
   "execution_count": 7,
   "id": "01121795-1e70-415d-96b3-eaf8e22666ad",
   "metadata": {},
   "outputs": [
    {
     "name": "stdout",
     "output_type": "stream",
     "text": [
      "False\n"
     ]
    }
   ],
   "source": [
    "#Answer\n",
    "\n",
    "def is_prime(num):\n",
    "    if num < 2 or num > 200:\n",
    "        return False\n",
    "    if num == 2:\n",
    "        return True\n",
    "    if num % 2 == 0:\n",
    "        return False\n",
    "    for i in range(3, int(num**0.5) + 1, 2):\n",
    "        if num % i == 0:\n",
    "            return False\n",
    "    return True\n",
    "\n",
    "# Example usage:\n",
    "number = 56\n",
    "print(is_prime(number))  # Output: True\n"
   ]
  },
  {
   "cell_type": "markdown",
   "id": "da825fb2-bcec-4170-8892-be579069a67a",
   "metadata": {},
   "source": [
    "5. Create an iterator class in Python that generates the Fibonacci sequence up to a specified number of terms."
   ]
  },
  {
   "cell_type": "code",
   "execution_count": 8,
   "id": "e4ee677b-21b7-41c0-a30a-ed0f02cf6c7f",
   "metadata": {},
   "outputs": [
    {
     "name": "stdout",
     "output_type": "stream",
     "text": [
      "0\n",
      "1\n",
      "1\n",
      "2\n",
      "3\n",
      "5\n",
      "8\n",
      "13\n",
      "21\n",
      "34\n"
     ]
    }
   ],
   "source": [
    "#Answer\n",
    "\n",
    "class FibonacciIterator:\n",
    "    def __init__(self, terms):\n",
    "        self.terms = terms\n",
    "        self.count = 0\n",
    "        self.a, self.b = 0, 1\n",
    "\n",
    "    def __iter__(self):\n",
    "        return self\n",
    "\n",
    "    def __next__(self):\n",
    "        if self.count >= self.terms:\n",
    "            raise StopIteration\n",
    "        else:\n",
    "            fib = self.a\n",
    "            self.a, self.b = self.b, self.a + self.b\n",
    "            self.count += 1\n",
    "            return fib\n",
    "\n",
    "# Example usage:\n",
    "fib_iter = FibonacciIterator(10)\n",
    "for number in fib_iter:\n",
    "    print(number)\n"
   ]
  },
  {
   "cell_type": "markdown",
   "id": "775dc2cc-9efc-4f92-aad5-3413ac73c390",
   "metadata": {},
   "source": [
    "6. Write a generator function in Python that yields the powers of 2 up o to a given exponent."
   ]
  },
  {
   "cell_type": "code",
   "execution_count": null,
   "id": "c6b75b7c-99fb-4c72-b43f-f6172979ed74",
   "metadata": {},
   "outputs": [],
   "source": [
    "#Answer\n",
    "\n",
    "def powers_of_2(max_exponent):\n",
    "    for exponent in range(max_exponent + 1):\n",
    "        yield 2 ** exponent\n",
    "\n",
    "# Example usage:\n",
    "for power in powers_of_2(5):\n",
    "    print(power)\n"
   ]
  },
  {
   "cell_type": "markdown",
   "id": "5454c7af-37ab-457c-a754-f0b8a92aefb4",
   "metadata": {},
   "source": [
    "7. Implement a generator function that reads a file line by line and yields each line as a string."
   ]
  },
  {
   "cell_type": "code",
   "execution_count": null,
   "id": "02a9edaa-277e-456d-9c2f-3b84a99bb7dd",
   "metadata": {},
   "outputs": [
    {
     "name": "stdout",
     "output_type": "stream",
     "text": [
      "Error: The file 'example.txt' was not found.\n"
     ]
    }
   ],
   "source": [
    "#Answer\n",
    "\n",
    "def read_lines(filename):\n",
    "    try:\n",
    "        with open(filename, 'r') as file:\n",
    "            for line in file:\n",
    "                yield line.rstrip('\\n')\n",
    "    except FileNotFoundError:\n",
    "        print(f\"Error: The file '{filename}' was not found.\")\n",
    "\n",
    "# Example usage:\n",
    "for line in read_lines('example.txt'):\n",
    "    print(line)\n",
    "\n"
   ]
  },
  {
   "cell_type": "markdown",
   "id": "acdfd51d-7cd8-4506-b467-07ed51615b70",
   "metadata": {},
   "source": [
    "8. Use a lambda function in Python to sort a list of tuples based on the second element of each tuple."
   ]
  },
  {
   "cell_type": "code",
   "execution_count": 15,
   "id": "63e7ed7f-6a50-4d38-b161-42bc9d27e637",
   "metadata": {},
   "outputs": [
    {
     "name": "stdout",
     "output_type": "stream",
     "text": [
      "[(4, 1), (2, 2), (1, 3), (3, 4)]\n"
     ]
    }
   ],
   "source": [
    "#Answer\n",
    "\n",
    "# Sample list of tuples\n",
    "tuples_list = [(1, 3), (4, 1), (2, 2), (3, 4)]\n",
    "\n",
    "# Sort by the second element of each tuple\n",
    "sorted_list = sorted(tuples_list, key=lambda x: x[1])\n",
    "\n",
    "print(sorted_list)  # Output: [(4, 1), (2, 2), (1, 3), (3, 4)]\n"
   ]
  },
  {
   "cell_type": "markdown",
   "id": "95605547-cd8c-4612-9c72-70127e14f9f1",
   "metadata": {},
   "source": [
    "9. Write a Python program that uses map() to convert a list of temperatures from Celsius to Fahrenheit."
   ]
  },
  {
   "cell_type": "code",
   "execution_count": 16,
   "id": "af232bb5-ac98-455a-9df6-02495fbd9f82",
   "metadata": {},
   "outputs": [
    {
     "name": "stdout",
     "output_type": "stream",
     "text": [
      "[32.0, 50.0, 68.0, 86.0, 104.0]\n"
     ]
    }
   ],
   "source": [
    "#Answer\n",
    "\n",
    "# Define a function to convert Celsius to Fahrenheit\n",
    "def celsius_to_fahrenheit(celsius):\n",
    "    return (celsius * 9/5) + 32\n",
    "\n",
    "# List of temperatures in Celsius\n",
    "celsius_temps = [0, 10, 20, 30, 40]\n",
    "\n",
    "# Use map() to convert the list of temperatures to Fahrenheit\n",
    "fahrenheit_temps = list(map(celsius_to_fahrenheit, celsius_temps))\n",
    "\n",
    "# Print the results\n",
    "print(fahrenheit_temps)"
   ]
  },
  {
   "cell_type": "markdown",
   "id": "2350fe42-8298-4379-9b18-283f02224b1e",
   "metadata": {},
   "source": [
    "10. Create a Python program that uses filter() to remove all the vowels from a given string."
   ]
  },
  {
   "cell_type": "code",
   "execution_count": 17,
   "id": "1ad874ad-e895-4f99-b164-74b7750e179d",
   "metadata": {},
   "outputs": [
    {
     "name": "stdout",
     "output_type": "stream",
     "text": [
      "Hll, Wrld!\n"
     ]
    }
   ],
   "source": [
    "#Answer\n",
    "\n",
    "def remove_vowels(input_string):\n",
    "    vowels = \"aeiouAEIOU\"\n",
    "    return ''.join(filter(lambda char: char not in vowels, input_string))\n",
    "\n",
    "# Example usage:\n",
    "input_string = \"Hello, World!\"\n",
    "result = remove_vowels(input_string)\n",
    "print(result)  # Output: \"Hll, Wrld!\"\n"
   ]
  },
  {
   "cell_type": "markdown",
   "id": "e1d0ecb4-d1e7-49b7-8072-22c642aac2da",
   "metadata": {},
   "source": [
    "11) Imagine an accounting routine used in a book shop. It works on a list with sublists, which look like this:"
   ]
  },
  {
   "cell_type": "code",
   "execution_count": 1,
   "id": "120fb8f7-23f6-48ac-9f9a-eb550edb236b",
   "metadata": {},
   "outputs": [
    {
     "name": "stdout",
     "output_type": "stream",
     "text": [
      "[(34587, 163.8), (98762, 284.0), (77226, 108.85000000000001), (88112, 84.97)]\n"
     ]
    }
   ],
   "source": [
    "# Provided list\n",
    "orders = [\n",
    "    [34587, \"Learning Python, Mark Lutz\", 4, 40.95],\n",
    "    [98762, \"Programming Python, Mark Lutz\", 5, 56.80],\n",
    "    [77226, \"Head First Python, Paul Barry\", 3, 32.95],\n",
    "    [88112, \"Einführung in Python3, Bernd Klein\", 3, 24.99]\n",
    "]\n",
    "\n",
    "# Function to process each order\n",
    "process_order = lambda order: (order[0], order[2] * order[3] if order[2] * order[3] >= 100 else order[2] * order[3] + 10)\n",
    "\n",
    "# Applying the function to each order\n",
    "processed_orders = list(map(process_order, orders))\n",
    "\n",
    "# Output the result\n",
    "print(processed_orders)\n"
   ]
  },
  {
   "cell_type": "code",
   "execution_count": null,
   "id": "f453e8c0-84be-4ad7-96cd-ee2672d6b6a6",
   "metadata": {},
   "outputs": [],
   "source": []
  },
  {
   "cell_type": "code",
   "execution_count": null,
   "id": "9260b2a0-0472-4edf-a7a8-9419b530ab6d",
   "metadata": {},
   "outputs": [],
   "source": []
  }
 ],
 "metadata": {
  "kernelspec": {
   "display_name": "Python 3 (ipykernel)",
   "language": "python",
   "name": "python3"
  },
  "language_info": {
   "codemirror_mode": {
    "name": "ipython",
    "version": 3
   },
   "file_extension": ".py",
   "mimetype": "text/x-python",
   "name": "python",
   "nbconvert_exporter": "python",
   "pygments_lexer": "ipython3",
   "version": "3.10.8"
  }
 },
 "nbformat": 4,
 "nbformat_minor": 5
}
