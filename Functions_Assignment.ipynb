{
 "cells": [
  {
   "cell_type": "markdown",
   "id": "8557dde5-c679-4b37-8f75-589cfc9a1d0f",
   "metadata": {},
   "source": [
    "Theory Questions:"
   ]
  },
  {
   "cell_type": "markdown",
   "id": "aeb72e35-584d-470b-b4e6-ad1df5fa90e6",
   "metadata": {},
   "source": [
    "1. What is the difference between a function and a method in Python?"
   ]
  },
  {
   "cell_type": "code",
   "execution_count": null,
   "id": "07773c85-26ed-4d65-8918-121bb29ed45d",
   "metadata": {},
   "outputs": [],
   "source": [
    "# Ans In Python, a function and a method are both blocks of code that can be executed multiple times from different parts of a program. However, there are key differences:\n",
    "\n",
    "# Function:\n",
    "\n",
    "# - A standalone block of code that can be called independently.\n",
    "# - Not associated with any class or object.\n",
    "# - Does not have access to any specific object's attributes or methods.\n",
    "# - Defined using the def keyword."
   ]
  },
  {
   "cell_type": "code",
   "execution_count": 1,
   "id": "ee817c52-7e2e-4fef-b32a-746565a92201",
   "metadata": {},
   "outputs": [
    {
     "name": "stdout",
     "output_type": "stream",
     "text": [
      "PythonGeeks\n"
     ]
    }
   ],
   "source": [
    "#Example of creating and calling a function:\n",
    "def join(str1, str2):\n",
    "    joined_str = str1 + str2\n",
    "    return joined_str\n",
    "\n",
    "print(join(\"Python\", \"Geeks\"))  # Output: \"PythonGeeks\"\n"
   ]
  },
  {
   "cell_type": "code",
   "execution_count": null,
   "id": "7c77c380-255a-4733-b89d-b879fcc5bf6a",
   "metadata": {},
   "outputs": [],
   "source": [
    "# Method:\n",
    "\n",
    "# - A block of code that is part of a class or object.\n",
    "# - Associated with a specific class or object.\n",
    "# - Has access to the object's attributes and other methods.\n",
    "# - Defined inside a class using the def keyword.\n",
    "\n",
    "# To illustrate the difference:\n",
    "\n",
    "# - A function is like a recipe that can be used by anyone.\n",
    "# - A method is like a recipe that is specific to a particular chef (object) and can use the chef's tools (attributes)."
   ]
  },
  {
   "cell_type": "code",
   "execution_count": 2,
   "id": "888c4187-e5d1-4ad9-821c-26fbaab7e58c",
   "metadata": {},
   "outputs": [
    {
     "name": "stdout",
     "output_type": "stream",
     "text": [
      "Hello, Alice!\n"
     ]
    }
   ],
   "source": [
    "#Example of a method (inside a class):\n",
    "class MyClass:\n",
    "    def greet(self, name):\n",
    "        return f\"Hello, {name}!\"\n",
    "\n",
    "obj = MyClass()\n",
    "print(obj.greet(\"Alice\"))  # Output: \"Hello, Alice!\""
   ]
  },
  {
   "cell_type": "code",
   "execution_count": null,
   "id": "2984d369-f023-4328-9ab4-ba867f6df458",
   "metadata": {},
   "outputs": [],
   "source": [
    "# In summary, functions are standalone code blocks, while methods are part of a class or object and have access to its attributes and methods."
   ]
  },
  {
   "cell_type": "markdown",
   "id": "deeeca73-15ad-4a05-9e0f-8b7e283e2538",
   "metadata": {},
   "source": [
    "2. Explain the concept of function arguments and parameters in Python."
   ]
  },
  {
   "cell_type": "code",
   "execution_count": null,
   "id": "10e09831-4ec2-4bea-ab8d-a1676066d454",
   "metadata": {},
   "outputs": [],
   "source": [
    "# Ans In Python, functions can accept inputs, known as arguments, which are passed to the function when it's called. These arguments are received by the function as parameters.\n",
    "\n",
    "# Arguments:\n",
    "# -Arguments are the actual values passed to the function when it is called.\n",
    "# -They provide concrete data to the function parameters"
   ]
  },
  {
   "cell_type": "code",
   "execution_count": 4,
   "id": "206fe7b8-03d5-4a2a-a7a3-91d1276445df",
   "metadata": {},
   "outputs": [
    {
     "name": "stdout",
     "output_type": "stream",
     "text": [
      "The sum of the two numbers is 25\n"
     ]
    }
   ],
   "source": [
    "#Example\n",
    "number1 = 10\n",
    "number2 = 15\n",
    "print(\"The sum of the two numbers is \" + str(calculate_sum(number1, number2)))\n",
    "# 'number1' and 'number2' are arguments passed to the function"
   ]
  },
  {
   "cell_type": "code",
   "execution_count": null,
   "id": "65421edb-b15b-44e1-8992-0279053723b6",
   "metadata": {},
   "outputs": [],
   "source": [
    "# Parameters:\n",
    "# - Parameters are variables listed inside the parentheses when defining a function.\n",
    "# - They act as placeholders for the values (arguments) that the function will work with when called."
   ]
  },
  {
   "cell_type": "code",
   "execution_count": 3,
   "id": "213e8630-cd49-4eb7-b4d0-fa744b526f8b",
   "metadata": {},
   "outputs": [],
   "source": [
    "#Example\n",
    "def calculate_sum(a, b):\n",
    "    result = a + b\n",
    "    return result\n",
    "\n",
    "# 'a' and 'b' are parameters in the function definition\n"
   ]
  },
  {
   "cell_type": "markdown",
   "id": "1db97549-a73e-4932-a828-d823234c1b79",
   "metadata": {},
   "source": [
    "3. What are the different ways to define and call a function in Python?"
   ]
  },
  {
   "cell_type": "code",
   "execution_count": 3,
   "id": "9458869f-8c5e-49b9-8afa-9dfbd7e3c6c1",
   "metadata": {},
   "outputs": [],
   "source": [
    "# Ans In Python, there are several ways to define and call functions. Here's a detailed overview of these different methods:\n",
    "\n",
    "\n",
    "#1. Standard Function Definition\n",
    "# The most common way to define a function is using the def keyword.\n",
    "\n",
    "#Definition:\n",
    "\n",
    "def my_function(param1, param2):\n",
    "    return param1 + param2\n",
    "# Call:\n",
    "\n",
    "result = my_function(5, 10)\n",
    "\n",
    "#2. Lambda Functions\n",
    "#Lambda functions are small anonymous functions defined using the lambda keyword. They can have any number of arguments but only one expression.\n",
    "\n",
    "#Example:\n",
    "add = lambda x, y: x + y\n",
    "\n",
    "#Call: Like a standard function, but without a name directly associated.\n",
    "result = add(5, 10)\n",
    "\n",
    "#3. Nested Functions\n",
    "#Theory: Functions can be defined inside other functions. This is useful for creating helper functions that are only needed within the scope of the enclosing function.\n",
    "\n",
    "#Example:\n",
    "def outer_function(x):\n",
    "    def inner_function(y):\n",
    "        return x + y\n",
    "    return inner_function\n",
    "\n",
    "#Call: By calling the outer function, which returns the inner function.\n",
    "inner = outer_function(5)\n",
    "result = inner(10)  # result is 15\n",
    "\n",
    "#4. Higher-Order Functions\n",
    "#Theory: These are functions that either take other functions as arguments or return them as results. This allows for functions that can operate on other functions, enhancing modularity and reusability.\n",
    "\n",
    "#Example:\n",
    "\n",
    "def apply_function(func, value):\n",
    "    return func(value)\n",
    "\n",
    "#Call: By passing a function as an argument to another function.\n",
    "\n",
    "def square(x):\n",
    "    return x * x\n",
    "\n",
    "result = apply_function(square, 5)  # result is 25\n",
    "\n",
    "#5. Functions with Default Arguments\n",
    "#Theory: Functions can have default parameter values specified. If an argument is not provided for such parameters, the default value is used.\n",
    "\n",
    "#Example:\n",
    "\n",
    "def greet(name, message=\"Hello\"):\n",
    "    return f\"{message}, {name}!\"\n",
    "\n",
    "#Call: With or without providing the default argument.\n",
    "\n",
    "result1 = greet(\"Alice\")  # \"Hello, Alice!\"\n",
    "result2 = greet(\"Bob\", \"Hi\")  # \"Hi, Bob!\"\n",
    "\n",
    "#6. Keyword Arguments\n",
    "#Theory: Arguments can be passed to functions using the parameter names. This allows for more readable code and flexibility in the order of arguments.\n",
    "\n",
    "#Example:\n",
    "\n",
    "def describe_pet(pet_name, animal_type='dog'):\n",
    "    print(f\"I have a {animal_type} named {pet_name}.\")\n",
    "\n",
    "#Call: By specifying the argument names in the function call.\n",
    "\n",
    "describe_pet(pet_name='Willie')  # Uses default for animal_type\n",
    "describe_pet(pet_name='Harry', animal_type='hamster')\n",
    "\n",
    "#7. Variable-Length Arguments\n",
    "#Theory: Functions can accept a variable number of positional or keyword arguments. This is done using *args for positional arguments and **kwargs for keyword arguments, allowing the function to handle more arguments than specified in the definition.\n",
    "\n",
    "#Example:\n",
    "\n",
    "def make_pizza(size, *toppings):\n",
    "    print(f\"Making a {size} inch pizza with the following toppings:\")\n",
    "    for topping in toppings:\n",
    "        print(f\"- {topping}\")\n",
    "\n",
    "def build_profile(first, last, **user_info):\n",
    "    profile = {'first_name': first, 'last_name': last}\n",
    "    profile.update(user_info)\n",
    "    return profile\n",
    "\n",
    "#Call: By passing a varying number of arguments.\n",
    "\n",
    "make_pizza(12, 'pepperoni', 'mushrooms', 'green peppers')\n",
    "profile = build_profile('albert', 'einstein', location='princeton', field='physics')\n",
    "\n",
    "#8. Using Function Annotations\n",
    "#Theory: Function annotations provide a way of associating various parts of a function with arbitrary Python expressions at compile time. They can be used for type hints or other metadata.\n",
    "\n",
    "#Example:\n",
    "def add(x: int, y: int) -> int:\n",
    "    return x + y\n",
    "\n",
    "#Call: The annotations are used for documentation or by external tools but do not affect the function's behavior.\n",
    "\n",
    "result = add(5, 10)\n",
    "\n",
    "#9. Recursive Functions\n",
    "#Theory: Recursive functions call themselves within their definition. This is useful for tasks that can be broken down into smaller, similar tasks, like calculating factorials or traversing trees.\n",
    "\n",
    "#Example:\n",
    "\n",
    "def factorial(n):\n",
    "    if n == 1:\n",
    "        return 1\n",
    "    else:\n",
    "        return n * factorial(n - 1)\n",
    "\n",
    "#Call: By invoking the function in a way that eventually leads to a base case.\n",
    "\n",
    "result = factorial(5)  # result is 120\n",
    "\n",
    "#These various methods of defining and calling functions provide flexibility and power in Python programming.\n"
   ]
  },
  {
   "cell_type": "markdown",
   "id": "3bc96a3f-39d5-40b4-ba47-1259f47b4ace",
   "metadata": {},
   "source": [
    "4. What is the purpose of the 'return' statement in a Python function?"
   ]
  },
  {
   "cell_type": "code",
   "execution_count": 2,
   "id": "6cfe6a47-703c-4f24-b92f-b0eee013524e",
   "metadata": {},
   "outputs": [
    {
     "name": "stdout",
     "output_type": "stream",
     "text": [
      "5\n"
     ]
    }
   ],
   "source": [
    "# Ans The return statement in a Python function serves several purposes:\n",
    "\n",
    "# 1. Exiting the function: The return statement terminates the function's execution and returns control to the caller.\n",
    "\n",
    "# 2. Returning values: The return statement can pass values back to the caller, allowing the function to provide results or output.\n",
    "\n",
    "# 3. Specifying function output: The return statement defines the output type of the function, making it clear what type of value the function produces.\n",
    "\n",
    "# 4. Enabling function chaining: By returning values, functions can be chained together, allowing for more complex and concise code.\n",
    "\n",
    "# 5. Allowing early exit: The return statement can be used to exit a function early, before reaching the end, which can be useful for handling errors or special cases.\n",
    "\n",
    "#Example:\n",
    "def add(a, b):\n",
    "    return a + b\n",
    "\n",
    "result = add(2, 3)\n",
    "print(result)  # Output: 5\n",
    "\n",
    "#In this example, the add function uses the return statement to pass the result of the addition back to the caller, which is then stored in the result variable and printed."
   ]
  },
  {
   "cell_type": "markdown",
   "id": "5ddc7e71-8911-4add-9fa0-c409a788f4c0",
   "metadata": {},
   "source": [
    "5. What are iterators in Python and how do they differ from iterables?"
   ]
  },
  {
   "cell_type": "code",
   "execution_count": null,
   "id": "1e20a502-a37d-49f7-aa12-1b2f3f1ec808",
   "metadata": {},
   "outputs": [],
   "source": [
    "# Ans In Python, iterators and iterables are related concepts that facilitate working with sequences, such as lists, tuples, and strings.\n",
    "\n",
    "# Iterables:\n",
    "\n",
    "# - An iterable is an object that can be iterated over, meaning it can be looped through using a for loop or other iteration mechanisms.\n",
    "# - Examples of iterables include lists, tuples, strings, dictionaries, and sets.\n",
    "# - Iterables have an __iter__ method that returns an iterator object.\n",
    "\n",
    "# Iterators:\n",
    "\n",
    "# - An iterator is an object that keeps track of its current position in an iterable and yields the next value on each iteration.\n",
    "# - Iterators have a __next__ method that returns the next value from the iterable.\n",
    "# - When an iterator is exhausted (i.e., there are no more values to yield), it raises a StopIteration exception.\n",
    "\n",
    "# Key differences:\n",
    "\n",
    "# - An iterable is the collection of values, whereas an iterator is the object that iterates over those values.\n",
    "# - An iterable can be iterated over multiple times, whereas an iterator can only be iterated over once.\n",
    "# - Iterators are stateful, meaning they keep track of their current position, whereas iterables are stateless.\n",
    "\n",
    "#Example:\n",
    "\n",
    "my_list = [1, 2, 3]  # Iterable\n",
    "my_iter = iter(my_list)  # Iterator\n",
    "\n",
    "print(next(my_iter))  # Output: 1\n",
    "print(next(my_iter))  # Output: 2\n",
    "print(next(my_iter))  # Output: 3\n",
    "next(my_iter)  # Raises StopIteration exception\n",
    "\n",
    "\n",
    "#In summary, iterables are the data structures that can be iterated over, while iterators are the objects that facilitate the iteration process."
   ]
  },
  {
   "cell_type": "markdown",
   "id": "c8232005-3561-4491-a277-5e49f3973a45",
   "metadata": {},
   "source": [
    "6. Explain the concept of generators in Python and how they are defined."
   ]
  },
  {
   "cell_type": "code",
   "execution_count": null,
   "id": "608597f5-2bfb-4cc5-859e-3b54e7421e9c",
   "metadata": {},
   "outputs": [],
   "source": [
    "# Ans Generators in Python are a type of iterable, like lists or tuples, but they don't store all the values in memory at once. Instead, they generate values on-the-fly as they're needed, making them memory-efficient for large datasets.\n",
    "\n",
    "# What Are Generators?\n",
    "# A generator is a special type of function or expression that produces a sequence of values one at a time, on demand.\n",
    "# Unlike lists or other data structures, generators do not store their entire contents in memory.\n",
    "# Instead, they generate values dynamically as needed, making them memory-efficient and suitable for large datasets.\n",
    "\n",
    "# How Generators Work:\n",
    "# When you create a generator, it returns a generator object.\n",
    "# This object can be iterated over using loops (like for loops) or other iterable constructs.\n",
    "# The key difference: lazy evaluation—values are generated only when requested.\n",
    "# Generators maintain their internal state, allowing them to resume where they left off during iteration.\n",
    "\n",
    "#Creating a Generator:\n",
    "#You can define a generator using a generator function.\n",
    "\n",
    "#Syntax:\n",
    "def my_generator():\n",
    "    yield 1\n",
    "    yield 2\n",
    "    yield 3\n",
    "\n",
    "    \n",
    "#The Yield Statement:\n",
    "#The magic happens with the yield keyword.\n",
    "#It suspends the function’s execution and returns a value to the caller.\n",
    "#The function can then resume from where it left off when called again.\n",
    "\n",
    "#Example:\n",
    "def count_up_to(n):\n",
    "    i = 1\n",
    "    while i <= n:\n",
    "        yield i\n",
    "        i += 1\n",
    "\n",
    "for num in count_up_to(5):\n",
    "    print(num)  # Output: 1, 2, 3, 4, 5\n",
    "\n",
    "#Generator Expressions:\n",
    "#Similar to list comprehensions but with parentheses.\n",
    "#Creates a generator on the fly.\n",
    "\n",
    "#Example:\n",
    "squares = (x ** 2 for x in range(1, 6))\n",
    "for square in squares:\n",
    "    print(square)  # Output: 1, 4, 9, 16, 25\n",
    "\n",
    "#Generators are your memory-friendly pals when dealing with large data streams or infinite sequences. "
   ]
  },
  {
   "cell_type": "markdown",
   "id": "dfb9def3-9cc5-4b77-819a-1b526c184bbb",
   "metadata": {},
   "source": [
    "7. What are the advantages of using generators over regular functions?"
   ]
  },
  {
   "cell_type": "code",
   "execution_count": null,
   "id": "715c133a-80e0-4b56-991b-476729799573",
   "metadata": {},
   "outputs": [],
   "source": [
    "# Ans Generators have several advantages over regular functions:\n",
    "\n",
    "# 1. Memory Efficiency: Generators use significantly less memory, as they only store the current state and generate values on-the-fly, whereas regular functions store all values in memory at once.\n",
    "\n",
    "# 2. Lazy Evaluation: Generators only compute values when needed, reducing unnecessary computations and improving performance.\n",
    "\n",
    "# 3. Flexibility: Generators can be used to create infinite sequences, whereas regular functions cannot.\n",
    "\n",
    "# 4. Improved Performance: Generators can improve performance by avoiding the need to compute and store large datasets in memory.\n",
    "\n",
    "# 5. Simplified Code: Generators can simplify code by eliminating the need for complex loops and conditional statements.\n",
    "\n",
    "# 6. Easier Debugging: Generators can make debugging easier, as they allow for step-by-step execution and inspection of values.\n",
    "\n",
    "# 7. Better Support for Cooperative Multitasking: Generators can be used to implement cooperative multitasking, where tasks yield control to other tasks voluntarily.\n",
    "\n",
    "When to use generators:\n",
    "\n",
    "- Handling large datasets\n",
    "- Creating infinite sequences\n",
    "- Improving performance\n",
    "- Simplifying code\n",
    "- Debugging complex logic\n",
    "def generate_numbers():\n",
    "    for i in range(10):\n",
    "        yield i\n",
    "\n",
    "# Function to process each number (example implementation)\n",
    "def process(number):\n",
    "    print(f\"Processing number: {number}\")\n",
    "\n",
    "# Using the generator to generate and process numbers\n",
    "for number in generate_numbers():\n",
    "    process(number)"
   ]
  },
  {
   "cell_type": "markdown",
   "id": "58e421fc-65b9-4fb0-b004-dc099bf72968",
   "metadata": {},
   "source": [
    "8. What is a lambda function in Python and when is it typically used?"
   ]
  },
  {
   "cell_type": "code",
   "execution_count": 6,
   "id": "a2803291-4004-470c-9b56-3095ccff807d",
   "metadata": {},
   "outputs": [
    {
     "name": "stdout",
     "output_type": "stream",
     "text": [
      "10\n"
     ]
    }
   ],
   "source": [
    "# Ans A lambda function in Python is a concise way to create small, anonymous functions. Unlike regular functions defined with the def keyword, lambda functions are created using the lambda keyword and are typically used for short, immediate operations. \n",
    "\n",
    "# Here are some key points about lambda functions:\n",
    "\n",
    "# Anonymous Functions:\n",
    "# Lambda functions are also known as nameless functions because they don’t have a formal name.\n",
    "# They are defined inline and can be used directly without assigning them to a variable.\n",
    "\n",
    "# Single Expression:\n",
    "# A lambda function can take any number of arguments but can only have one expression.\n",
    "# The expression is evaluated and returned as the result of the function.\n",
    "\n",
    "# Common Use Cases:\n",
    "# Lambda functions are often used for simple tasks, especially when you need a quick function for a specific purpose.\n",
    "\n",
    "# Common scenarios include:\n",
    "\n",
    "# Sorting: As key functions for sorting lists or custom sorting criteria.\n",
    "\n",
    "# Filtering: As filters for filter() or list comprehensions.\n",
    "\n",
    "# Mapping: As mapping functions for map() or list comprehensions.\n",
    "\n",
    "#Example of a lambda function that doubles a given number\n",
    "\n",
    "double = lambda x: x * 2\n",
    "print(double(5))  # Output: 10\n",
    "\n",
    "#Remember, lambda functions are handy for short-lived operations where a full function definition isn’t necessary."
   ]
  },
  {
   "cell_type": "markdown",
   "id": "c9c559a6-514c-4a16-b848-62c7246e707c",
   "metadata": {},
   "source": [
    "9. Explain the purpose and usage of the map() function in Python."
   ]
  },
  {
   "cell_type": "code",
   "execution_count": null,
   "id": "115c7c46-5f6d-499a-9645-673026c09bb5",
   "metadata": {},
   "outputs": [],
   "source": [
    "# Ans Certainly! Let’s dive into the map() function in Python:\n",
    "\n",
    "# Purpose:\n",
    "# The map() function is a powerful tool for transforming data efficiently and concisely.\n",
    "# It applies a given function to each item in an iterable (like a list, tuple, or dictionary).\n",
    "# The result is a new iterable (a map object) that you can use elsewhere in your code.\n",
    "\n",
    "# Usage:\n",
    "# Syntax: map(function, iterable, [iterable1, iterable2, ...])\n",
    "# Parameters:\n",
    "\n",
    "#   function: The function to execute for each item in the iterable.\n",
    "\n",
    "#   iterable: A sequence or collection of objects to be mapped.\n",
    "\n",
    "# Returns: A map object containing the results after applying the function to each item in the iterable.\n",
    "\n",
    "#Examples:\n",
    "\n",
    "#Doubling Numbers:\n",
    "numbers = (1, 2, 3, 4)\n",
    "result = map(lambda x: x + x, numbers)\n",
    "print(list(result))  # Output: [2, 4, 6, 8]\n",
    "\n",
    "#Adding Two Lists:\n",
    "numbers1 = [1, 2, 3]\n",
    "numbers2 = [4, 5, 6]\n",
    "result = map(lambda x, y: x + y, numbers1, numbers2)\n",
    "print(list(result))  # Output: [5, 7, 9]\n",
    "\n",
    "#Modifying Strings:\n",
    "strings = ['sat', 'bat', 'cat', 'mat']\n",
    "modified = list(map(list, strings))\n",
    "print(modified)  # Output: [['s', 'a', 't'], ['b', 'a', 't'], ['c', 'a', 't'], ['m', 'a', 't']]\n",
    "\n",
    "#Conditional Transformation:\n",
    "def double_even(num):\n",
    "    return num * 2 if num % 2 == 0 else num\n",
    "\n",
    "numbers = [1, 2, 3, 4, 5]\n",
    "result = list(map(double_even, numbers))\n",
    "print(result)  # Output: [1, 4, 3, 8, 5]\n",
    "\n",
    "# By using map(), you can write concise and readable code for data processing and transformation tasks."
   ]
  },
  {
   "cell_type": "markdown",
   "id": "d9db4077-267b-4a10-95a1-6d42b9ffa471",
   "metadata": {},
   "source": [
    "10. What is the difference between \"map()\", \"reduce()\", and \"filter() function?"
   ]
  },
  {
   "cell_type": "code",
   "execution_count": null,
   "id": "f4c11279-83a9-4d71-bafd-f62d9202efe8",
   "metadata": {},
   "outputs": [],
   "source": [
    "# Ans map(), reduce(), and filter() are three fundamental functions in Python's functional programming toolkit. Here's a brief overview of each:\n",
    "\n",
    "# map() Function:\n",
    "# The map() function iterates through all items in a given iterable (like a list) and applies a specified function to each item.\n",
    "# It returns a new iterable (a map object) containing the results of applying the function to each element.\n",
    "\n",
    "#Example:\n",
    "def square(x):\n",
    "    return x ** 2\n",
    "\n",
    "numbers = [1, 2, 3, 4]\n",
    "squared_numbers = list(map(square, numbers))\n",
    "# Output: [1, 4, 9, 16]"
   ]
  },
  {
   "cell_type": "code",
   "execution_count": null,
   "id": "f609185e-fdc8-4a86-a543-023e249d5024",
   "metadata": {},
   "outputs": [],
   "source": [
    "# reduce() Function:\n",
    "# The reduce() function aggregates the items of an iterable (e.g., a list) to a single value.\n",
    "# It repeatedly applies a binary function (usually taking two arguments) to the items, reducing them step by step.\n",
    "# Requires importing the functools module.\n",
    "\n",
    "#Example (summing a list of numbers):\n",
    "from functools import reduce\n",
    "\n",
    "def add(x, y):\n",
    "    return x + y\n",
    "\n",
    "numbers = [1, 2, 3, 4]\n",
    "total = reduce(add, numbers)\n",
    "# Output: 10"
   ]
  },
  {
   "cell_type": "code",
   "execution_count": 7,
   "id": "c0eafc03-a6c0-4a14-804b-5884e808eaf5",
   "metadata": {},
   "outputs": [],
   "source": [
    "# filter() Function:\n",
    "# The filter() function selects elements from an iterable based on a condition.\n",
    "# It requires a function that returns boolean values (True or False).\n",
    "# Returns an iterable containing only the elements that satisfy the condition.\n",
    "\n",
    "#Example (filtering even numbers):\n",
    "def is_even(x):\n",
    "    return x % 2 == 0\n",
    "\n",
    "numbers = [1, 2, 3, 4, 5]\n",
    "even_numbers = list(filter(is_even, numbers))\n",
    "# Output: [2, 4]\n",
    "\n",
    "#map() applies a function to each item of an iterable, transforming each item.\n",
    "#filter() applies a function to each item of an iterable, filtering out items that do not match the condition.\n",
    "#reduce() applies a function cumulatively to the items of an iterable, reducing it to a single value.\n",
    "#Each of these functions is powerful for different types of data transformation and processing tasks in Python."
   ]
  },
  {
   "cell_type": "markdown",
   "id": "16b32cd6-9b5a-4742-ad62-e45714902642",
   "metadata": {},
   "source": [
    "11.Using pen & Paper write the internal mechanism for sum operation using reduce function n on this given list:[47,11,42,13];"
   ]
  },
  {
   "cell_type": "code",
   "execution_count": null,
   "id": "ba352139-dd87-4e7a-b79b-e2fd0496a162",
   "metadata": {},
   "outputs": [],
   "source": [
    "# Ans Attched doc link."
   ]
  }
 ],
 "metadata": {
  "kernelspec": {
   "display_name": "Python 3 (ipykernel)",
   "language": "python",
   "name": "python3"
  },
  "language_info": {
   "codemirror_mode": {
    "name": "ipython",
    "version": 3
   },
   "file_extension": ".py",
   "mimetype": "text/x-python",
   "name": "python",
   "nbconvert_exporter": "python",
   "pygments_lexer": "ipython3",
   "version": "3.10.8"
  }
 },
 "nbformat": 4,
 "nbformat_minor": 5
}
